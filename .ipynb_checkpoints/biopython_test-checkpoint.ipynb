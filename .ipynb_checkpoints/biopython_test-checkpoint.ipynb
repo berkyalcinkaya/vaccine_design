{
 "cells": [
  {
   "cell_type": "code",
   "execution_count": 1,
   "id": "31d29176",
   "metadata": {},
   "outputs": [],
   "source": [
    "from Bio import SeqIO, AlignIO\n",
    "from Bio import Align\n",
    "from Bio.Align.AlignInfo import SummaryInfo"
   ]
  },
  {
   "cell_type": "code",
   "execution_count": 17,
   "id": "2aae5285",
   "metadata": {},
   "outputs": [],
   "source": [
    "''' alignmentFile = \"/Users/berk/vaccine/data/run1/alignment/99_muscle_super5_alignment.fasta\"\n",
    "alignment = AlignIO.read(alignmentFile, \"fasta\")\n",
    "print(alignment.get_alignment_length())\n",
    "summary = SummaryInfo(alignment)\n",
    "consensus_seq = summary.dumb_consensus(threshold=0.5)\n",
    "print()\n",
    "print(consensus_seq)\n",
    "print(\"finished\") ''';"
   ]
  },
  {
   "cell_type": "code",
   "execution_count": 4,
   "id": "1c8948c5",
   "metadata": {},
   "outputs": [
    {
     "ename": "AttributeError",
     "evalue": "'FastaIterator' object has no attribute 'sequence'",
     "output_type": "error",
     "traceback": [
      "\u001b[0;31m---------------------------------------------------------------------------\u001b[0m",
      "\u001b[0;31mAttributeError\u001b[0m                            Traceback (most recent call last)",
      "Input \u001b[0;32mIn [4]\u001b[0m, in \u001b[0;36m<cell line: 3>\u001b[0;34m()\u001b[0m\n\u001b[1;32m      1\u001b[0m c \u001b[38;5;241m=\u001b[39m \u001b[38;5;124m\"\u001b[39m\u001b[38;5;124m/Users/berk/vaccine/code/vaccine_design/data/H5/Outputs/consensus_consensus_output.txt\u001b[39m\u001b[38;5;124m\"\u001b[39m\n\u001b[1;32m      2\u001b[0m consensus \u001b[38;5;241m=\u001b[39m SeqIO\u001b[38;5;241m.\u001b[39mparse(c, \u001b[38;5;124m\"\u001b[39m\u001b[38;5;124mfasta\u001b[39m\u001b[38;5;124m\"\u001b[39m)\n\u001b[0;32m----> 3\u001b[0m \u001b[38;5;28mprint\u001b[39m(\u001b[43mconsensus\u001b[49m\u001b[38;5;241;43m.\u001b[39;49m\u001b[43msequence\u001b[49m)\n",
      "\u001b[0;31mAttributeError\u001b[0m: 'FastaIterator' object has no attribute 'sequence'"
     ]
    }
   ],
   "source": [
    "c = \"/Users/berk/vaccine/code/vaccine_design/data/H5/Outputs/consensus_consensus_output.txt\"\n",
    "consensus = SeqIO.parse(c, \"fasta\")\n",
    "print((next(consensus).sequence)"
   ]
  },
  {
   "cell_type": "code",
   "execution_count": 21,
   "id": "4a6d0033",
   "metadata": {},
   "outputs": [
    {
     "name": "stdout",
     "output_type": "stream",
     "text": [
      "MKAILVVLLYTFATANADTLCIGYHANNSTDTVDTVLEKNVTVTHSVNLLEDKHNGKLCKLRGVAPLHLGKCNIAGWILGNPECESLSTASSWSYIVETSSSDNGTCYPGDFIDYEELREQLSSVSSFERFEIFPKTSSWPNHDSNKGVTAACPHAGAKSFYKNLIWLVKKGNSYPKLSKSYINDKGKEVLVLWGIHHPSTTADQQSLYQNADAYVFVGTSRYSKKFKPEIAIRPKVRDQEGRMNYYWTLVEPGDKITFEATGNLVVPRYAFAMERNAGSGIIISDTPVHDCNTTCQTPKGAINTSLPFQNIHPITIGKCPKYVKSTKLRLATGLRNVPSIQSRGLFGAIAGFIEGGWTGMVDGWYGYHHQNEQGSGYAADLKSTQNAIDKITNKVNSVIEKMNTQFTAVGKEFNHLEKRIENLNKKVDDGFLDIWTYNAELLVLLENERTLDYHDSNVKNLYEKVRSQLKNNAKEIGNGCFEFYHKCDNTCMESVKNGTYDYPKYSEEAKLNREKIDGVKLESTRIYQILAIYSTVASSLVLVVSLGAISFWMCSNGSLQCRICI\n",
      "               ..||.||||||||||||||||||||||||||||||||.||||||.|.|.|||.|||||||||||||||||||....|||||.||..|.|||||||||.|||||||||||||||||||||||..|||.|....||||||.|||..||||||.||.....|||||||||.|.|.||||||||.||||...||..||....|||.|..|.|...|.||||.|||||.|.|||||||||.||||.|.|||.|||..|.||||..|..|||||.|......|.|.||||.||||.|||||||||.|||.|||||||||||..|||||.|||||||||||||||||||||||.|||||||||||||||||||.|||||||..||||||||||||||||||||||||.||||.||||||||||||||||||||||||||||||||.||||||||||||..||.|||||||||||||||||.|.||||||||||||||||||....|                                                    \n",
      "---------------GSDTICIGYHANNSTDTVDTVLEKNVTVTHSVNLLEDSHNGKLCRLKGIAPLQLGKCNIAGWILGNPECESLLSKRSWSYIAETPNSENGTCYPGDFADYEELREQLSSVSSFERFEIFPKERSWPKHNITRGVTAACSHAGKSSFYKNLLWLTETNGSYPKLSKSYVNNKEKEVLVLWGVHHPSNIEDQKTLYRKENAYVSVVSSNYNRRFTPEIAERPKVRGQAGRMNYYWTLLEPGDTIIFEANGNLIAPWYAFALSRGFGSGIITSNASMDECDTKCQTPQGAINSSLPFQNIHPVTIGECPKYVKSTKLRMVTGLRNIPSIQSRGLFGAIAGFIEGGWTGMIDGWYGYHHQNEQGSGYAADQKSTQNAINGITNKVNSVIEKMNTQFTAVGKEFNKLEKRMENLNKKVDDGFLDIWTYNAELLVLLENERTLDFHDSNVKNLYEKVKNQLRNNAKEIGNGCFEFYHKCNNECMESVKNGTYDYPKYSEEFLVPR----------------------------------------------------\n",
      "  Score=346.5\n",
      "\n"
     ]
    }
   ],
   "source": [
    "from Bio import pairwise2\n",
    "from Bio import SeqIO, AlignIO\n",
    "\n",
    "gap_open_default = -10\n",
    "gap_open_consensus = -50\n",
    "gap_extend_default = -0.5\n",
    "# load consensus sequence using Biopython\n",
    "consensus_seq_file = \"data/H1_consensus.fasta\"\n",
    "consensus_record = SeqIO.parse(consensus_seq_file, \"fasta\")\n",
    "consensus_seq = next(consensus_record).seq\n",
    "\n",
    "sample_seq = '''GSDTICIGYHANNSTDTVDTVLEKNVTVTHSVNLLEDSHNGKLCR\n",
    "LKGIAPLQLGKCNIAGWILGNPECESLLSKRSWSYIAETPNSENGTCYPGDFADYEELRE\n",
    "QLSSVSSFERFEIFPKERSWPKHNITRGVTAACSHAGKSSFYKNLLWLTETNGSYPKLSK\n",
    "SYVNNKEKEVLVLWGVHHPSNIEDQKTLYRKENAYVSVVSSNYNRRFTPEIAERPKVRGQ\n",
    "AGRMNYYWTLLEPGDTIIFEANGNLIAPWYAFALSRGFGSGIITSNASMDECDTKCQTPQ\n",
    "GAINSSLPFQNIHPVTIGECPKYVKSTKLRMVTGLRNIPSIQSRGLFGAIAGFIEGGWTG\n",
    "MIDGWYGYHHQNEQGSGYAADQKSTQNAINGITNKVNSVIEKMNTQFTAVGKEFNKLEKR\n",
    "MENLNKKVDDGFLDIWTYNAELLVLLENERTLDFHDSNVKNLYEKVKNQLRNNAKEIGNG\n",
    "CFEFYHKCNNECMESVKNGTYDYPKYSEEFLVPR'''\n",
    "sample_seq = sample_seq.replace(\"\\n\",  \"\").replace(\" \", \"\").strip()\n",
    "\n",
    "alns = pairwise2.align.globalxd(sequenceA=consensus_seq, sequenceB=sample_seq, \n",
    "                                      openA = gap_open_consensus, \n",
    "                                      extendA = gap_extend_default, \n",
    "                                      openB = gap_open_default, \n",
    "                                      extendB = gap_extend_default)\n",
    "print(pairwise2.format_alignment(*alns[0]))"
   ]
  },
  {
   "cell_type": "code",
   "execution_count": 19,
   "id": "4cd9470e",
   "metadata": {},
   "outputs": [
    {
     "data": {
      "text/plain": [
       "'MKAILVVLLYTFATANADTLCIGYHANNSTDTVDTVLEKNVTVTHSVNLLEDKHNGKLCKLRGVAPLHLGKCNIAGWILGNPECESLSTASSWSYIVETSSSDNGTCYPGDFIDYEELREQLSSVSSFERFEIFPKTSSWPNHDSNKGVTAACPHAGAKSFYKNLIWLVKKGNSYPKLSKSYINDKGKEVLVLWGIHHPSTTADQQSLYQNADAYVFVGTSRYSKKFKPEIAIRPKVRDQEGRMNYYWTLVEPGDKITFEATGNLVVPRYAFAMERNAGSGIIISDTPVHDCNTTCQTPKGAINTSLPFQNIHPITIGKCPKYVKSTKLRLATGLRNVPSIQSRGLFGAIAGFIEGGWTGMVDGWYGYHHQNEQGSGYAADLKSTQNAIDKITNKVNSVIEKMNTQFTAVGKEFNHLEKRIENLNKKVDDGFLDIWTYNAELLVLLENERTLDYHDSNVKNLYEKVRSQLKNNAKEIGNGCFEFYHKCDNTCMESVKNGTYDYPKYSEEAKLNREKIDGVKLESTRIYQILAIYSTVASSLVLVVSLGAISFWMCSNGSLQCRICI'"
      ]
     },
     "execution_count": 19,
     "metadata": {},
     "output_type": "execute_result"
    }
   ],
   "source": [
    "top_aln = alns[0]\n",
    "aln_consensus, aln_sample, score, begin, end = top_aln\n",
    "aln_consensus"
   ]
  }
 ],
 "metadata": {
  "interpreter": {
   "hash": "384d4953133ca2ee819072d60b5e93ead98f635cfa0dcb2bc227b2021a103c91"
  },
  "kernelspec": {
   "display_name": "vaccine",
   "language": "python",
   "name": "vaccine"
  },
  "language_info": {
   "codemirror_mode": {
    "name": "ipython",
    "version": 3
   },
   "file_extension": ".py",
   "mimetype": "text/x-python",
   "name": "python",
   "nbconvert_exporter": "python",
   "pygments_lexer": "ipython3",
   "version": "3.10.0"
  }
 },
 "nbformat": 4,
 "nbformat_minor": 5
}
