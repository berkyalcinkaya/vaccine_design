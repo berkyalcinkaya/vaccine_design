{
 "cells": [
  {
   "cell_type": "code",
   "execution_count": 1,
   "id": "186c90bb",
   "metadata": {},
   "outputs": [],
   "source": [
    "from utils import get_start_and_end as rbs\n",
    "from glob import glob\n",
    "from Bio import SeqIO, pairwise2"
   ]
  },
  {
   "cell_type": "code",
   "execution_count": 2,
   "id": "cff8de6d",
   "metadata": {},
   "outputs": [
    {
     "name": "stdout",
     "output_type": "stream",
     "text": [
      "RBS Sequence:\n",
      "VERSKADNSNCYPGDFPDYEELRSLLSSSGTFEFFNIFPKSFSWTGHTQNGVSSACPRAGAKSFFSNLNWLTKKNNKYPALNVSYPNNKGFDKLYIWGVHHPSTDADQISLYAQASGYVTVSTSRSQQKVIPNIGSRPKVRDQESRISIYWTIVKPGD\n"
     ]
    }
   ],
   "source": [
    "RBS_path = \"data/consensus_RBS_extended.fasta\"\n",
    "RBS_seq_file = RBS_path\n",
    "RBS_record = SeqIO.parse(RBS_seq_file, \"fasta\")\n",
    "RBS_seq = (next(RBS_record)).seq   \n",
    "print(\"RBS Sequence:\")\n",
    "print(str(RBS_seq))"
   ]
  },
  {
   "cell_type": "code",
   "execution_count": 3,
   "id": "9a98947b",
   "metadata": {},
   "outputs": [
    {
     "data": {
      "text/plain": [
       "['data/H7_consensus.fasta',\n",
       " 'data/H1_consensus.fasta',\n",
       " 'data/H1_H3_H5_consensus.fasta',\n",
       " 'data/H3_consensus.fasta',\n",
       " 'data/H5_consensus.fasta',\n",
       " 'data/H1_H3_consensus.fasta',\n",
       " 'data/human_consensus.fasta',\n",
       " 'data/H2_consensus.fasta']"
      ]
     },
     "execution_count": 3,
     "metadata": {},
     "output_type": "execute_result"
    }
   ],
   "source": [
    "consensus_sequence_files = glob(\"data/**consensus.fasta\")\n",
    "consensus_sequence_files"
   ]
  },
  {
   "cell_type": "code",
   "execution_count": 4,
   "id": "e01ba435",
   "metadata": {},
   "outputs": [
    {
     "name": "stdout",
     "output_type": "stream",
     "text": [
      "data/H7_consensus\n",
      "IIERREGSDVCYPGKFVNEEALRQILRESGGIDKEAMGFTYSGIRTNGATSACRRSGSSFYAEMKWLLSNTDNAAFPQMTKSYKNTRKSPAIIVWGIHHSVSTAEQTKLYGSGNKLVTVGSSNYQQSFVPSPGARPQVNGLSGRIDFHWLMLNPND\n",
      "\n",
      "data/H1_consensus\n",
      "VETSSSDNGTCYPGDFIDYEELREQLSSVSSFERFEIFPKTSSWPNHDSNKGVTAACPHAGAKSFYKNLIWLVKKGNSYPKLSKSYINDKGKEVLVLWGIHHPSTTADQQSLYQNADAYVFVGTSRYSKKFKPEIAIRPKVRDQEGRMNYYWTLVEPGD\n",
      "\n",
      "data/H1_H3_H5_consensus\n",
      "VERSKADNGTCYPGDFPDYEELREQLSSVSSFERFEIFPKSSSWPNHTQNGVSAACPHAGAKSFYSNLNWLTKKGNSYPALNVTYPNNKGKEVLVLWGVHHPSTDADQQSLYQNASGYVTVSTSRYSQKFIPEIASRPKVRDQEGRINYYWTLVKPGD\n",
      "\n",
      "data/H3_consensus\n",
      "VERSKAYSNCYPYDVPDYASLRSLVASSGTLEFNNESFNWTGVTQNGTSSACKRRSNNSFFSRLNWLTHLKYKYPALNVTMPNNEKFDKLYIWGVHHPSTDSDQISLYAQASGRVTVSTKRSQQTVIPNIGSRPWVRGISSRISIYWTIVKPGD\n",
      "\n",
      "data/H5_consensus\n",
      "VEKANPANDLCYPGNFNDYEELKHLLSRINHFEKIQIIPKSSWSDHEASSGVSSACPYQGRSSFFRNVVWLIKKNNTYPTIKRSYNNTNQEDLLVLWGIHHPNDAAEQTKLYQNPTTYISVGTSTLNQRLVPKIATRSKVNGQSGRMEFFWTILKPND\n",
      "\n",
      "data/H1_H3_consensus\n",
      "VERSKADNGTCYPGDFPDYEELREQLSSVSSFERFEIFPKTSSWPNHTQNGVSAACPHAGAKSFYSNLNWLTKKGNSYPALNVTYPNNKGKEVLVLWGVHHPSTDADQQSLYQNASAYVTVSTSRYSQKFIPEIASRPKVRDQEGRINYYWTLVEPGD\n",
      "\n",
      "data/human_consensus\n",
      "VERSKADNSNCYPGDFPDYEELRSLLSSSGTFERFEIFPKSFSWTGHTQNGVSSACPRAGAKSFFSNLNWLTKKNNKYPALNVSYPNNKGFDKLYIWGVHHPSTDADQISLYAQASGYVTVSTSRSQQKVIPNIGSRPKVRDQESRISIYWTIVKPGD\n",
      "\n",
      "data/H2_consensus\n",
      "MEKENPRYSLCYPGSFNDYEELKHLLSSVKHFEKVKILPKDRWTQHTTTGGSKACAVSGNPSFFRNMVWLTKKGPNYPVAKGSYNNTSGEQMLIIWGVHHPNDEAEQRALYQNVGTYVSASTSTLNKRSTPEIAARPKVNGLGSRMEFSWTLLDMWD\n",
      "\n"
     ]
    }
   ],
   "source": [
    "for f in consensus_sequence_files:\n",
    "    full_seq_rec = SeqIO.parse(f, \"fasta\")\n",
    "    full_seq = (next(full_seq_rec)).seq\n",
    "    rbs_start, rbs_end = rbs(full_seq, str(RBS_seq), verbose = False)\n",
    "    print(f.split(\".\")[0])\n",
    "    print(full_seq[rbs_start:rbs_end+1])\n",
    "    print()\n",
    "    with open(f, \"a\") as consensus_file:\n",
    "        consensus_file.write(f\"\\n>RBS\\n{full_seq[rbs_start:rbs_end+1]}\")"
   ]
  },
  {
   "cell_type": "code",
   "execution_count": null,
   "id": "ed116e15",
   "metadata": {},
   "outputs": [],
   "source": []
  }
 ],
 "metadata": {
  "kernelspec": {
   "display_name": "Python 3.10.0",
   "language": "python",
   "name": "python3"
  },
  "language_info": {
   "codemirror_mode": {
    "name": "ipython",
    "version": 3
   },
   "file_extension": ".py",
   "mimetype": "text/x-python",
   "name": "python",
   "nbconvert_exporter": "python",
   "pygments_lexer": "ipython3",
   "version": "3.10.0"
  },
  "vscode": {
   "interpreter": {
    "hash": "384d4953133ca2ee819072d60b5e93ead98f635cfa0dcb2bc227b2021a103c91"
   }
  }
 },
 "nbformat": 4,
 "nbformat_minor": 5
}
