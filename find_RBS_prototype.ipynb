{
 "cells": [
  {
   "cell_type": "code",
   "execution_count": 52,
   "id": "782631c3",
   "metadata": {},
   "outputs": [],
   "source": [
    "from io import StringIO\n",
    "from Bio import SeqIO, pairwise2\n",
    "import pandas as pd\n",
    "import numpy as np\n",
    "import matplotlib.lines as mlines\n",
    "import matplotlib.pyplot as plt"
   ]
  },
  {
   "cell_type": "code",
   "execution_count": 53,
   "id": "60891e7e",
   "metadata": {},
   "outputs": [],
   "source": [
    "def local_align(consensus, RBS, verbose = False):\n",
    "    '''peforms a global alignment between a consensus and sample sequence\n",
    "    gap open penalty is raised very high to prevent gaps in consensus sequence'''\n",
    "    # def scoring metrics\n",
    "    gap_open_default = -3\n",
    "    gap_open_consensus = -3\n",
    "    gap_extend_default = -0.1\n",
    "    alns = pairwise2.align.localxd(sequenceA=consensus, sequenceB=RBS, \n",
    "                                      openA = gap_open_consensus, \n",
    "                                      extendA = gap_extend_default, \n",
    "                                      openB = gap_open_default, \n",
    "                                      extendB = gap_extend_default)\n",
    "    top_aln = alns[0] # choose first (best) alignment\n",
    "    aln_consensus, aln_RBS, _, _, _ = top_aln\n",
    "    \n",
    "    if verbose:\n",
    "        print(\"consensus aln \", aln_consensus)\n",
    "        print(\"RBS aln \", aln_RBS)\n",
    "    \n",
    "    return aln_consensus, aln_RBS"
   ]
  },
  {
   "cell_type": "code",
   "execution_count": 54,
   "id": "22669a5d",
   "metadata": {},
   "outputs": [],
   "source": [
    "def get_start_and_end(consensus, RBS, verbose = False):\n",
    "    aln_consensus, aln_RBS = local_align(consensus, RBS)\n",
    "    \n",
    "    start = -1\n",
    "    for aa_char in aln_RBS:\n",
    "        start +=1\n",
    "        if aa_char!=\"-\":\n",
    "            break\n",
    "    \n",
    "    end = len(aln_RBS)\n",
    "    for aa_char in reversed(aln_RBS):\n",
    "        end -=1\n",
    "        if aa_char!=\"-\":\n",
    "            break\n",
    "    \n",
    "    if verbose:\n",
    "        print(aln_consensus[start:end+1])\n",
    "    \n",
    "    return start, end"
   ]
  },
  {
   "cell_type": "code",
   "execution_count": 55,
   "id": "cdb1fd9b",
   "metadata": {},
   "outputs": [],
   "source": [
    "def aln_idx_to_consensus_idx(start, end, consensus_aln):\n",
    "    idx = -1\n",
    "    for char in consensus_aln[0:start+1]:\n",
    "        if char!=\"-\":\n",
    "            idx+=1\n",
    "    start_idx = idx\n",
    "    \n",
    "    for char in consensus_aln[start+1:end+1]:\n",
    "        if char!=\"-\":\n",
    "            idx+=1\n",
    "    end_idx = idx\n",
    "    \n",
    "    return start_idx,end_idx \n",
    "        "
   ]
  },
  {
   "cell_type": "code",
   "execution_count": 56,
   "id": "62dece1d",
   "metadata": {},
   "outputs": [],
   "source": [
    "RBS_seq_file = \"data/consensus_RBS.fasta\"\n",
    "RBS_record = SeqIO.parse(RBS_seq_file, \"fasta\")\n",
    "RBS_seq = (next(RBS_record)).seq.strip()\n",
    "compare_seq_file = \"data/H3_consensus.fasta\"\n",
    "compare_seq_record = SeqIO.parse(compare_seq_file, \"fasta\")\n",
    "compare_seq = (next(compare_seq_record)).seq.strip()"
   ]
  },
  {
   "cell_type": "code",
   "execution_count": 57,
   "id": "2c2e85d5",
   "metadata": {},
   "outputs": [
    {
     "name": "stdout",
     "output_type": "stream",
     "text": [
      "consensus aln  MKTIIALSYILCLVFAQKLPGNDNSTATLCLGHHAVPNGTLVKTITNDQIEVTNATELVQSSSTGRICDSPHQILDGENCTLIDALLGDPHCDGFQNKKWDLFVERSKAYSNCYPYDVPDYASLR---SLVASSGTLEFNNESFNWTGVTQNGTSSACKRRSNNSFFSRLNWLTHLKYKYPALNVTMPNNEKFDKLYIWGVHHPSTDSDQISLYAQASGRVTVSTKRSQQTVIPNIGSRPWVRGISSRISIYWTIVKPGDILLINSTGNLIAPRGYFKIRSGKSSIMRSDAPIGKCNSECITPNGSIPNDKPFQNVNRITYGACPRYVKQNTLKLATGMRNVPEKQTRGIFGAIAGFIENGWEGMVDGWYGFRHQNSEGTGQAADLKSTQAAIDQINGKLNRLIEKTNEKFHQIEKEFSEVEGRIQDLEKYVEDTKIDLWSYNAELLVALENQHTIDLTDSEMNKLFERTRKQLRENAEDMGNGCFKIYHKCDNACIGSIRNGTYDHDVYRDEALNNRFQIKGVELKSGYKDWILWISFAISCFLLCVVLLGFIMWACQKGNIRCNICI\n",
      "RBS aln  ----------------------------------------------------------------------------------------------------------------CYPGDFPDYEELREQLSSVSSFERFEIFPKTSSWPNHTQNGVSAACPHAGAKSFYKNLNWLTKKGNSYPALNVTYPNNKGKEVLVLWGVHHPSTDADQQSLYQNADAYVTV-TSRYSQKFIPEIASRPKVRDQEGRI--------------------------------------------------------------------------------------------------------------------------------------------------------------------------------------------------------------------------------------------------------------------------------------------------------------------------------\n"
     ]
    }
   ],
   "source": [
    "aln_compare, aln_RBS = local_align(compare_seq, RBS_seq, verbose=True)"
   ]
  },
  {
   "cell_type": "code",
   "execution_count": 58,
   "id": "a2560c1d",
   "metadata": {},
   "outputs": [
    {
     "name": "stdout",
     "output_type": "stream",
     "text": [
      "112 248\n"
     ]
    },
    {
     "data": {
      "text/plain": [
       "('CYPYDVPDYASLR---SLVASSGTLEFNNESFNWTGVTQNGTSSACKRRSNNSFFSRLNWLTHLKYKYPALNVTMPNNEKFDKLYIWGVHHPSTDSDQISLYAQASGRVTVSTKRSQQTVIPNIGSRPWVRGISSRI',\n",
       " 'CYPGDFPDYEELREQLSSVSSFERFEIFPKTSSWPNHTQNGVSAACPHAGAKSFYKNLNWLTKKGNSYPALNVTYPNNKGKEVLVLWGVHHPSTDADQQSLYQNADAYVTV-TSRYSQKFIPEIASRPKVRDQEGRI')"
      ]
     },
     "execution_count": 58,
     "metadata": {},
     "output_type": "execute_result"
    }
   ],
   "source": [
    "start, end = get_start_and_end(compare_seq, RBS_seq)\n",
    "print(start, end)\n",
    "str(aln_compare.strip())[start:end+1], str(aln_RBS)[start:end+1]"
   ]
  },
  {
   "cell_type": "code",
   "execution_count": 60,
   "id": "be9c42ae",
   "metadata": {},
   "outputs": [
    {
     "data": {
      "text/plain": [
       "'CYPYDVPDYASLRSLVASSGTLEFNNESFNWTGVTQNGTSSACKRRSNNSFFSRLNWLTHLKYKYPALNVTMPNNEKFDKLYIWGVHHPSTDSDQISLYAQASGRVTVSTKRSQQTVIPNIGSRPWVRGISSRISIY'"
      ]
     },
     "execution_count": 60,
     "metadata": {},
     "output_type": "execute_result"
    }
   ],
   "source": [
    "new_start, new_end = aln_idx_to_consensus_idx(start, end, aln_compare)\n",
    "str(compare_seq)[start:end+1]"
   ]
  },
  {
   "cell_type": "code",
   "execution_count": null,
   "id": "7797138e",
   "metadata": {},
   "outputs": [],
   "source": []
  }
 ],
 "metadata": {
  "kernelspec": {
   "display_name": "vaccine",
   "language": "python",
   "name": "vaccine"
  },
  "language_info": {
   "codemirror_mode": {
    "name": "ipython",
    "version": 3
   },
   "file_extension": ".py",
   "mimetype": "text/x-python",
   "name": "python",
   "nbconvert_exporter": "python",
   "pygments_lexer": "ipython3",
   "version": "3.10.0"
  }
 },
 "nbformat": 4,
 "nbformat_minor": 5
}
