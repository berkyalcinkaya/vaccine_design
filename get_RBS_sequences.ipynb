{
 "cells": [
  {
   "cell_type": "code",
   "execution_count": 1,
   "id": "186c90bb",
   "metadata": {},
   "outputs": [],
   "source": [
    "from utils import get_start_and_end as rbs\n",
    "from glob import glob\n",
    "from Bio import SeqIO, pairwise2"
   ]
  },
  {
   "cell_type": "code",
   "execution_count": 2,
   "id": "cff8de6d",
   "metadata": {},
   "outputs": [
    {
     "name": "stdout",
     "output_type": "stream",
     "text": [
      "RBS Sequence:\n",
      "CYPGDFPDYEELREQLSSVSSFERFEIFPKTSSWPNHTQNGVSAACPHAGAKSFYKNLNWLTKKGNSYPALNVTYPNNKGKEVLVLWGVHHPSTDADQQSLYQNADAYVTVTSRYSQKFIPEIASRPKVRDQEGRI\n"
     ]
    }
   ],
   "source": [
    "RBS_path = \"data/consensus_RBS.fasta\"\n",
    "RBS_seq_file = RBS_path\n",
    "RBS_record = SeqIO.parse(RBS_seq_file, \"fasta\")\n",
    "RBS_seq = (next(RBS_record)).seq   \n",
    "print(\"RBS Sequence:\")\n",
    "print(str(RBS_seq))"
   ]
  },
  {
   "cell_type": "code",
   "execution_count": 3,
   "id": "9a98947b",
   "metadata": {},
   "outputs": [
    {
     "data": {
      "text/plain": [
       "['data/H7_consensus.fasta',\n",
       " 'data/H1_consensus.fasta',\n",
       " 'data/H1_H3_H5_consensus.fasta',\n",
       " 'data/H3_consensus.fasta',\n",
       " 'data/H5_consensus.fasta',\n",
       " 'data/H1_H3_consensus.fasta',\n",
       " 'data/human_consensus.fasta',\n",
       " 'data/H2_consensus.fasta']"
      ]
     },
     "execution_count": 3,
     "metadata": {},
     "output_type": "execute_result"
    }
   ],
   "source": [
    "consensus_sequence_files = glob(\"data/**consensus.fasta\")\n",
    "consensus_sequence_files"
   ]
  },
  {
   "cell_type": "code",
   "execution_count": 6,
   "id": "e01ba435",
   "metadata": {},
   "outputs": [
    {
     "name": "stdout",
     "output_type": "stream",
     "text": [
      "data/H7_consensus\n",
      "CYPGKFVNEEALRQILRESGGIDKEAMGFTYSGIRTNGATSACRRSGSSFYAEMKWLLSNTDNAAFPQMTKSYKNTRKSPAIIVWGIHHSVSTAEQTKLYGSGNKLVTVGSSNYQQSFVPSPGARPQVNGLSGRI\n",
      "\n",
      "data/H1_consensus\n",
      "CYPGDFIDYEELREQLSSVSSFERFEIFPKTSSWPNHDSNKGVTAACPHAGAKSFYKNLIWLVKKGNSYPKLSKSYINDKGKEVLVLWGIHHPSTTADQQSLYQNADAYVFVGTSRYSKKFKPEIAIRPKVRDQEGRM\n",
      "\n",
      "data/H1_H3_H5_consensus\n",
      "CYPGDFPDYEELREQLSSVSSFERFEIFPKSSSWPNHTQNGVSAACPHAGAKSFYSNLNWLTKKGNSYPALNVTYPNNKGKEVLVLWGVHHPSTDADQQSLYQNASGYVTVSTSRYSQKFIPEIASRPKVRDQEGRI\n",
      "\n",
      "data/H3_consensus\n",
      "CYPYDVPDYASLRSLVASSGTLEFNNESFNWTGVTQNGTSSACKRRSNNSFFSRLNWLTHLKYKYPALNVTMPNNEKFDKLYIWGVHHPSTDSDQISLYAQASGRVTVSTKRSQQTVIPNIGSRPWVRGISSRI\n",
      "\n",
      "data/H5_consensus\n",
      "CYPGNFNDYEELKHLLSRINHFEKIQIIPKSSWSDHEASSGVSSACPYQGRSSFFRNVVWLIKKNNTYPTIKRSYNNTNQEDLLVLWGIHHPNDAAEQTKLYQNPTTYISVGTSTLNQRLVPKIATRSKVNGQSGRM\n",
      "\n",
      "data/H1_H3_consensus\n",
      "CYPGDFPDYEELREQLSSVSSFERFEIFPKTSSWPNHTQNGVSAACPHAGAKSFYSNLNWLTKKGNSYPALNVTYPNNKGKEVLVLWGVHHPSTDADQQSLYQNASAYVTVSTSRYSQKFIPEIASRPKVRDQEGRI\n",
      "\n",
      "data/human_consensus\n",
      "CYPGDFPDYEELRSLLSSSGTFERFEIFPKSFSWTGHTQNGVSSACPRAGAKSFFSNLNWLTKKNNKYPALNVSYPNNKGFDKLYIWGVHHPSTDADQISLYAQASGYVTVSTSRSQQKVIPNIGSRPKVRDQESRI\n",
      "\n",
      "data/H2_consensus\n",
      "CYPGSFNDYEELKHLLSSVKHFEKVKILPKDRWTQHTTTGGSKACAVSGNPSFFRNMVWLTKKGPNYPVAKGSYNNTSGEQMLIIWGVHHPNDEAEQRALYQNVGTYVSASTSTLNKRSTPEIAARPKVNGLGSRM\n",
      "\n"
     ]
    }
   ],
   "source": [
    "for f in consensus_sequence_files:\n",
    "    full_seq_rec = SeqIO.parse(f, \"fasta\")\n",
    "    full_seq = (next(full_seq_rec)).seq\n",
    "    rbs_start, rbs_end = rbs(full_seq, str(RBS_seq), verbose = False)\n",
    "    print(f.split(\".\")[0])\n",
    "    print(full_seq[rbs_start:rbs_end+1])\n",
    "    print()\n",
    "    with open(f, \"a\") as consensus_file:\n",
    "        consensus_file.write(f\"\\n>RBS\\n{full_seq[rbs_start:rbs_end+1]}\")"
   ]
  },
  {
   "cell_type": "code",
   "execution_count": null,
   "id": "ed116e15",
   "metadata": {},
   "outputs": [],
   "source": []
  }
 ],
 "metadata": {
  "kernelspec": {
   "display_name": "vaccine",
   "language": "python",
   "name": "vaccine"
  },
  "language_info": {
   "codemirror_mode": {
    "name": "ipython",
    "version": 3
   },
   "file_extension": ".py",
   "mimetype": "text/x-python",
   "name": "python",
   "nbconvert_exporter": "python",
   "pygments_lexer": "ipython3",
   "version": "3.10.0"
  }
 },
 "nbformat": 4,
 "nbformat_minor": 5
}
