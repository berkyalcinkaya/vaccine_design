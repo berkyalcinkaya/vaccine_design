{
 "cells": [
  {
   "cell_type": "code",
   "execution_count": 1,
   "id": "31d29176",
   "metadata": {},
   "outputs": [],
   "source": [
    "from Bio import SeqIO, AlignIO\n",
    "from Bio import Align\n",
    "from Bio.Align.AlignInfo import SummaryInfo"
   ]
  },
  {
   "cell_type": "code",
   "execution_count": 17,
   "id": "2aae5285",
   "metadata": {},
   "outputs": [],
   "source": [
    "''' alignmentFile = \"/Users/berk/vaccine/data/run1/alignment/99_muscle_super5_alignment.fasta\"\n",
    "alignment = AlignIO.read(alignmentFile, \"fasta\")\n",
    "print(alignment.get_alignment_length())\n",
    "summary = SummaryInfo(alignment)\n",
    "consensus_seq = summary.dumb_consensus(threshold=0.5)\n",
    "print()\n",
    "print(consensus_seq)\n",
    "print(\"finished\") ''';"
   ]
  },
  {
   "cell_type": "code",
   "execution_count": 14,
   "id": "e2c8ba62",
   "metadata": {},
   "outputs": [
    {
     "name": "stdout",
     "output_type": "stream",
     "text": [
      "MEKIVLLLAIVSLVKSDQICIGYHANNSTEQVDTIMEKNVTVTHAQDILEKTHNGKLCDLDGVKPLILRDCSVAGWLLGNPMCDEFINVPEWSYIVEKANPANDLCYPGNFNDYEELKHLLSRINHFEKIQIIPKSSWSDHEASSGVSSACPYQGRSSFFRNVVWLIKKNNTYPTIKRSYNNTNQEDLLVLWGIHHPNDAAEQTKLYQNPTTYISVGTSTLNQRLVPKIATRSKVNGQSGRMEFFWTILKPNDAINFESNGNFIAPEYAYKIVKKGDSTIMKSELEYGNCNTKCQTPIGAINSSMPFHNIHPLTIGECPKYVKSNRLVLATGLRNSPQRERRRKKRGLFGAIAGFIEGGWQGMVDGWYGYHHSNEQGSGYAADKESTQKAIDGVTNKVNSIIDKMNTQFEAVGREFNNLERRIENLNKKMEDGFLDVWTYNAELLVLMENERTLDFHDSNVKNLYDKVRLQLRDNAKELGNGCFEFYHKCDNECMESVRNGTYDYPQYSEEARLKREEISGVKLESIGTYQILSIYSTVASSLALAIMVAGLSLWMCSNGSLQCRICIMSAsequenceentropyperresidue:0.138Wrotegapstrippedalignmentto:consensus_gapStrip.txtWroteCSVofresiduefrequenciesto:consensus_residueFrequencies.csv\n",
      "MEKIVLLLAIVSLVKSDQICIGYHANNSTEQVDTIMEKNVTVTHAQDILEKTHNGKLCDLDGVKPLILRDCSVAGWLLGNPMCDEFINVPEWSYIVEKANPANDLCYPGNFNDYEELKHLLSRINHFEKIQIIPKSSWSDHEASSGVSSACPYQGRSSFFRNVVWLIKKNNTYPTIKRSYNNTNQEDLLVLWGIHHPNDAAEQTKLYQNPTTYISVGTSTLNQRLVPKIATRSKVNGQSGRMEFFWTILKPNDAINFESNGNFIAPEYAYKIVKKGDSTIMKSELEYGNCNTKCQTPIGAINSSMPFHNIHPLTIGECPKYVKSNRLVLATGLRNSPQRERRRKKRGLFGAIAGFIEGGWQGMVDGWYGYHHSNEQGSGYAADKESTQKAIDGVTNKVNSIIDKMNTQFEAVGREFNNLERRIENLNKKMEDGFLDVWTYNAELLVLMENERTLDFHDSNVKNLYDKVRLQLRDNAKELGNGCFEFYHKCDNECMESVRNGTYDYPQYSEEARLKREEISGVKLESIGTYQILSIYSTVASSLALAIMVAGLSLWMCSNGSLQCRICIMSA\n"
     ]
    }
   ],
   "source": [
    "c = \"/Users/berk/vaccine/code/vaccine_design/data/H5/Outputs/consensus_consensus_output.txt\"\n",
    "consensus = SeqIO.parse(c, \"fasta\")\n",
    "print((next(consensus)).seq)\n",
    "consensus = SeqIO.parse(c, \"fasta\")\n",
    "print((next(consensus)).seq.split(\"sequence\")[0])"
   ]
  },
  {
   "cell_type": "code",
   "execution_count": null,
   "id": "14a0015e",
   "metadata": {},
   "outputs": [],
   "source": []
  },
  {
   "cell_type": "code",
   "execution_count": 21,
   "id": "4a6d0033",
   "metadata": {},
   "outputs": [
    {
     "name": "stdout",
     "output_type": "stream",
     "text": [
      "MKAILVVLLYTFATANADTLCIGYHANNSTDTVDTVLEKNVTVTHSVNLLEDKHNGKLCKLRGVAPLHLGKCNIAGWILGNPECESLSTASSWSYIVETSSSDNGTCYPGDFIDYEELREQLSSVSSFERFEIFPKTSSWPNHDSNKGVTAACPHAGAKSFYKNLIWLVKKGNSYPKLSKSYINDKGKEVLVLWGIHHPSTTADQQSLYQNADAYVFVGTSRYSKKFKPEIAIRPKVRDQEGRMNYYWTLVEPGDKITFEATGNLVVPRYAFAMERNAGSGIIISDTPVHDCNTTCQTPKGAINTSLPFQNIHPITIGKCPKYVKSTKLRLATGLRNVPSIQSRGLFGAIAGFIEGGWTGMVDGWYGYHHQNEQGSGYAADLKSTQNAIDKITNKVNSVIEKMNTQFTAVGKEFNHLEKRIENLNKKVDDGFLDIWTYNAELLVLLENERTLDYHDSNVKNLYEKVRSQLKNNAKEIGNGCFEFYHKCDNTCMESVKNGTYDYPKYSEEAKLNREKIDGVKLESTRIYQILAIYSTVASSLVLVVSLGAISFWMCSNGSLQCRICI\n",
      "               ..||.||||||||||||||||||||||||||||||||.||||||.|.|.|||.|||||||||||||||||||....|||||.||..|.|||||||||.|||||||||||||||||||||||..|||.|....||||||.|||..||||||.||.....|||||||||.|.|.||||||||.||||...||..||....|||.|..|.|...|.||||.|||||.|.|||||||||.||||.|.|||.|||..|.||||..|..|||||.|......|.|.||||.||||.|||||||||.|||.|||||||||||..|||||.|||||||||||||||||||||||.|||||||||||||||||||.|||||||..||||||||||||||||||||||||.||||.||||||||||||||||||||||||||||||||.||||||||||||..||.|||||||||||||||||.|.||||||||||||||||||....|                                                    \n",
      "---------------GSDTICIGYHANNSTDTVDTVLEKNVTVTHSVNLLEDSHNGKLCRLKGIAPLQLGKCNIAGWILGNPECESLLSKRSWSYIAETPNSENGTCYPGDFADYEELREQLSSVSSFERFEIFPKERSWPKHNITRGVTAACSHAGKSSFYKNLLWLTETNGSYPKLSKSYVNNKEKEVLVLWGVHHPSNIEDQKTLYRKENAYVSVVSSNYNRRFTPEIAERPKVRGQAGRMNYYWTLLEPGDTIIFEANGNLIAPWYAFALSRGFGSGIITSNASMDECDTKCQTPQGAINSSLPFQNIHPVTIGECPKYVKSTKLRMVTGLRNIPSIQSRGLFGAIAGFIEGGWTGMIDGWYGYHHQNEQGSGYAADQKSTQNAINGITNKVNSVIEKMNTQFTAVGKEFNKLEKRMENLNKKVDDGFLDIWTYNAELLVLLENERTLDFHDSNVKNLYEKVKNQLRNNAKEIGNGCFEFYHKCNNECMESVKNGTYDYPKYSEEFLVPR----------------------------------------------------\n",
      "  Score=346.5\n",
      "\n"
     ]
    }
   ],
   "source": [
    "from Bio import pairwise2\n",
    "from Bio import SeqIO, AlignIO\n",
    "\n",
    "gap_open_default = -10\n",
    "gap_open_consensus = -50\n",
    "gap_extend_default = -0.5\n",
    "# load consensus sequence using Biopython\n",
    "consensus_seq_file = \"data/H1_consensus.fasta\"\n",
    "consensus_record = SeqIO.parse(consensus_seq_file, \"fasta\")\n",
    "consensus_seq = next(consensus_record).seq\n",
    "\n",
    "sample_seq = '''GSDTICIGYHANNSTDTVDTVLEKNVTVTHSVNLLEDSHNGKLCR\n",
    "LKGIAPLQLGKCNIAGWILGNPECESLLSKRSWSYIAETPNSENGTCYPGDFADYEELRE\n",
    "QLSSVSSFERFEIFPKERSWPKHNITRGVTAACSHAGKSSFYKNLLWLTETNGSYPKLSK\n",
    "SYVNNKEKEVLVLWGVHHPSNIEDQKTLYRKENAYVSVVSSNYNRRFTPEIAERPKVRGQ\n",
    "AGRMNYYWTLLEPGDTIIFEANGNLIAPWYAFALSRGFGSGIITSNASMDECDTKCQTPQ\n",
    "GAINSSLPFQNIHPVTIGECPKYVKSTKLRMVTGLRNIPSIQSRGLFGAIAGFIEGGWTG\n",
    "MIDGWYGYHHQNEQGSGYAADQKSTQNAINGITNKVNSVIEKMNTQFTAVGKEFNKLEKR\n",
    "MENLNKKVDDGFLDIWTYNAELLVLLENERTLDFHDSNVKNLYEKVKNQLRNNAKEIGNG\n",
    "CFEFYHKCNNECMESVKNGTYDYPKYSEEFLVPR'''\n",
    "sample_seq = sample_seq.replace(\"\\n\",  \"\").replace(\" \", \"\").strip()\n",
    "\n",
    "alns = pairwise2.align.globalxd(sequenceA=consensus_seq, sequenceB=sample_seq, \n",
    "                                      openA = gap_open_consensus, \n",
    "                                      extendA = gap_extend_default, \n",
    "                                      openB = gap_open_default, \n",
    "                                      extendB = gap_extend_default)\n",
    "print(pairwise2.format_alignment(*alns[0]))"
   ]
  },
  {
   "cell_type": "code",
   "execution_count": 19,
   "id": "4cd9470e",
   "metadata": {},
   "outputs": [
    {
     "data": {
      "text/plain": [
       "'MKAILVVLLYTFATANADTLCIGYHANNSTDTVDTVLEKNVTVTHSVNLLEDKHNGKLCKLRGVAPLHLGKCNIAGWILGNPECESLSTASSWSYIVETSSSDNGTCYPGDFIDYEELREQLSSVSSFERFEIFPKTSSWPNHDSNKGVTAACPHAGAKSFYKNLIWLVKKGNSYPKLSKSYINDKGKEVLVLWGIHHPSTTADQQSLYQNADAYVFVGTSRYSKKFKPEIAIRPKVRDQEGRMNYYWTLVEPGDKITFEATGNLVVPRYAFAMERNAGSGIIISDTPVHDCNTTCQTPKGAINTSLPFQNIHPITIGKCPKYVKSTKLRLATGLRNVPSIQSRGLFGAIAGFIEGGWTGMVDGWYGYHHQNEQGSGYAADLKSTQNAIDKITNKVNSVIEKMNTQFTAVGKEFNHLEKRIENLNKKVDDGFLDIWTYNAELLVLLENERTLDYHDSNVKNLYEKVRSQLKNNAKEIGNGCFEFYHKCDNTCMESVKNGTYDYPKYSEEAKLNREKIDGVKLESTRIYQILAIYSTVASSLVLVVSLGAISFWMCSNGSLQCRICI'"
      ]
     },
     "execution_count": 19,
     "metadata": {},
     "output_type": "execute_result"
    }
   ],
   "source": [
    "top_aln = alns[0]\n",
    "aln_consensus, aln_sample, score, begin, end = top_aln\n",
    "aln_consensus"
   ]
  },
  {
   "cell_type": "code",
   "execution_count": 15,
   "id": "abf8268c",
   "metadata": {},
   "outputs": [
    {
     "name": "stdout",
     "output_type": "stream",
     "text": [
      "/Users/berk/vaccine/code/vaccine_design\n"
     ]
    }
   ],
   "source": [
    "import os \n",
    "print(os.getcwd())"
   ]
  },
  {
   "cell_type": "code",
   "execution_count": 16,
   "id": "e28fda82",
   "metadata": {},
   "outputs": [
    {
     "data": {
      "text/plain": [
       "[0, 1, 2]"
      ]
     },
     "execution_count": 16,
     "metadata": {},
     "output_type": "execute_result"
    }
   ],
   "source": [
    "s = [0,1,2,3]\n",
    "s[0:-1]"
   ]
  },
  {
   "cell_type": "code",
   "execution_count": null,
   "id": "d7dace84",
   "metadata": {},
   "outputs": [],
   "source": []
  }
 ],
 "metadata": {
  "interpreter": {
   "hash": "384d4953133ca2ee819072d60b5e93ead98f635cfa0dcb2bc227b2021a103c91"
  },
  "kernelspec": {
   "display_name": "vaccine",
   "language": "python",
   "name": "vaccine"
  },
  "language_info": {
   "codemirror_mode": {
    "name": "ipython",
    "version": 3
   },
   "file_extension": ".py",
   "mimetype": "text/x-python",
   "name": "python",
   "nbconvert_exporter": "python",
   "pygments_lexer": "ipython3",
   "version": "3.10.0"
  }
 },
 "nbformat": 4,
 "nbformat_minor": 5
}
