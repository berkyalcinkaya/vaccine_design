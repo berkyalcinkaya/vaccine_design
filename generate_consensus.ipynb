{
 "cells": [
  {
   "cell_type": "code",
   "execution_count": 23,
   "id": "ffab44f5",
   "metadata": {},
   "outputs": [],
   "source": [
    "import os\n",
    "import subprocess\n",
    "import pandas as pd\n",
    "import shutil\n",
    "import requests\n",
    "from Bio import SeqIO, AlignIO\n",
    "from io import StringIO\n",
    "import shlex\n",
    "import sys\n",
    "import copy"
   ]
  },
  {
   "cell_type": "code",
   "execution_count": 24,
   "id": "6c8bea9b",
   "metadata": {},
   "outputs": [
    {
     "data": {
      "text/plain": [
       "'\\n4.12.22\\nBerk Yalcinkaya\\n\\nBelow are some helper functions for this data pipeline. Skip these.'"
      ]
     },
     "execution_count": 24,
     "metadata": {},
     "output_type": "execute_result"
    }
   ],
   "source": [
    "'''\n",
    "4.12.22\n",
    "Berk Yalcinkaya\n",
    "\n",
    "Below are some helper functions for this data pipeline. Skip these.'''"
   ]
  },
  {
   "cell_type": "code",
   "execution_count": 25,
   "id": "bf130075",
   "metadata": {},
   "outputs": [],
   "source": [
    "# use this cell to restart\n",
    "def restart(path):\n",
    "    '''delete recently made files. Useful for testing. '''\n",
    "    try:\n",
    "        shutil.rmtree(path)\n",
    "    except:\n",
    "        print(\"run analysis first\")\n",
    "#restart(project_dir)"
   ]
  },
  {
   "cell_type": "code",
   "execution_count": 26,
   "id": "ccebe934",
   "metadata": {},
   "outputs": [],
   "source": [
    "def log(texts:list, newline = True, endline = True):\n",
    "    '''write text to log_file path, assuming file has been created'''\n",
    "    f = open(log_file, \"a\")\n",
    "    if newline:\n",
    "        f.write(\"\\n\")\n",
    "        \n",
    "    for text in texts:\n",
    "        f.write(text)\n",
    "        print(text + \"\\n\")\n",
    "        f.write(\"\\n\")\n",
    "        "
   ]
  },
  {
   "cell_type": "code",
   "execution_count": 27,
   "id": "3abd8f5f",
   "metadata": {},
   "outputs": [],
   "source": [
    "def get_subtype_string(subtypes, API = False):\n",
    "    '''returns a prefix for file headers or apa calls if API'''\n",
    "    if len(subtypes)==1:\n",
    "        return subtypes[0]\n",
    "    header = \"\"\n",
    "    for subtype in subtypes:\n",
    "        header += f\"{subtype}-\"\n",
    "    return header "
   ]
  },
  {
   "cell_type": "code",
   "execution_count": 28,
   "id": "d7834d5b",
   "metadata": {},
   "outputs": [],
   "source": [
    "# Step 0\n",
    "# Set up\n",
    "subtypes = [\"H1\"] # add subtypes here in any order you wish \n",
    "                  # ex: [H1,H6,H8], any subtype is acceptable\n",
    "subtypes.sort()\n",
    "subtype_string = get_subtype_string(subtypes) # generate an file header to identify this session"
   ]
  },
  {
   "cell_type": "code",
   "execution_count": 29,
   "id": "5440ddcb",
   "metadata": {},
   "outputs": [],
   "source": [
    "# ADD YOUR OWN PATHS HERE\n",
    "parent_path = \"/Users/berk/vaccine/code/vaccine_design\" # absolute path to the location of THIS progran\n",
    "cd_hit_path = \"/Users/berk/venvs/vaccine/bin/cd-hit\" # change this\n",
    "muscle_path = \"/Users/berk/opt/muscle\" # change this"
   ]
  },
  {
   "cell_type": "code",
   "execution_count": 30,
   "id": "eb446918",
   "metadata": {},
   "outputs": [],
   "source": [
    "consensus_path =  os.path.join(parent_path, \"protein-consensus-sequence\")\n",
    "project_dir = os.path.join(parent_path, f\"data/{subtype_string}\") # location of session dir\n",
    "clustered_path = \"clustered.fasta\" \n",
    "invalid_seq_path = \"invalid.fasta\"\n",
    "cleaned_path = \"seqs.fasta\"\n",
    "aln_path = \"aln.fasta\""
   ]
  },
  {
   "cell_type": "code",
   "execution_count": 31,
   "id": "5c58fd79",
   "metadata": {},
   "outputs": [
    {
     "name": "stdout",
     "output_type": "stream",
     "text": [
      "H1\n",
      "\n"
     ]
    }
   ],
   "source": [
    "# create project directories and log file about sequence data\n",
    "os.makedirs(project_dir, exist_ok=True)\n",
    "\n",
    "# change current working directory\n",
    "os.chdir(project_dir)\n",
    "\n",
    "# create a log file\n",
    "# write initial text in it\n",
    "log_file = \"log.txt\"\n",
    "log([subtype_string], newline = False)"
   ]
  },
  {
   "cell_type": "code",
   "execution_count": 32,
   "id": "f05f67e6",
   "metadata": {},
   "outputs": [],
   "source": [
    "def count_sequences(records):\n",
    "    '''takes a Biopython FastaIO records and count sequences'''\n",
    "    n = 0\n",
    "    for _ in records:\n",
    "        n+=1\n",
    "    return n"
   ]
  },
  {
   "cell_type": "code",
   "execution_count": 33,
   "id": "22396043",
   "metadata": {},
   "outputs": [],
   "source": [
    "def convert_string_to_seq(fasta_string):\n",
    "    '''converts fasta text to a StringIO object'''\n",
    "    fasta_io = StringIO(fasta_string) \n",
    "    records = SeqIO.parse(fasta_io, \"fasta\")\n",
    "    return records"
   ]
  },
  {
   "cell_type": "code",
   "execution_count": 34,
   "id": "89e372d9",
   "metadata": {},
   "outputs": [
    {
     "name": "stdout",
     "output_type": "stream",
     "text": [
      "IRDB API QUERY\n",
      "\n",
      "https://www.fludb.org/brc/api/sequence?datatype=protein&completeseq=y&host=human&family=influenza&toyear=2008&flutype=A&protein=HA&subtype=H1&metadata=uniprotAcc,strainName,subtype&output=fasta\n",
      "\n",
      "https://www.fludb.org/brc/api/sequence?datatype=protein&completeseq=y&host=human&family=influenza&fromyear=2009&flutype=A&protein=HA&subtype=H1&metadata=uniprotAcc,strainName,subtype&output=fasta\n",
      "\n",
      "23514 sequences were quiered from the IRD\n",
      "\n"
     ]
    }
   ],
   "source": [
    "# Step 1 \n",
    "# Get data from IRD\n",
    "# API Call using requests\n",
    "subtype_string_api = get_subtype_string(subtypes, API = True)\n",
    "\n",
    "base_url = 'https://www.fludb.org/brc/api/sequence'\n",
    "\n",
    "# must divide search into pre 2008 and post 2008 to avoid overload\n",
    "# 10,000 sequences max can be quiered at a time\n",
    "url1 = f\"?datatype=protein&completeseq=y&host=human&family=influenza&toyear=2008&flutype=A&protein=HA&subtype={subtype_string_api}&metadata=uniprotAcc,strainName,subtype&output=fasta\"\n",
    "url2 = f\"?datatype=protein&completeseq=y&host=human&family=influenza&fromyear=2009&flutype=A&protein=HA&subtype={subtype_string_api}&metadata=uniprotAcc,strainName,subtype&output=fasta\"\n",
    "\n",
    "# make API call\n",
    "response1 = requests.get(base_url+url1)\n",
    "response2 = requests.get(base_url+url2)\n",
    "log([\"IRDB API QUERY\", response1.url, response2.url])\n",
    "\n",
    "sequence_string = response1.text + \"\\n\" + response2.text\n",
    "\n",
    "# first, convert sequences to Biopython records object\n",
    "sequences = convert_string_to_seq(sequence_string)\n",
    "\n",
    "# count sequences and write to file\n",
    "n = count_sequences(sequences)\n",
    "log([f\"{n} sequences were quiered from the IRD\"])"
   ]
  },
  {
   "cell_type": "code",
   "execution_count": 35,
   "id": "8454f6f2",
   "metadata": {},
   "outputs": [],
   "source": [
    "# step 2\n",
    "# Sequence cleaning\n",
    "'''\n",
    "This script can remove sequences that contain ambiguous amino acids or replace ambiguous AA chars with an X. \n",
    "Adapted from Biopython Sequence Cleaner tutoral.\n",
    "\n",
    "URL: https://biopython.org/wiki/Sequence_Cleaner\n",
    "'''\n",
    "def clean(sequences):\n",
    "    '''open output file and continously write valid sequences to output_fasta, \n",
    "    invalid sequences are written to invalid_seq_fasta for observation purposes'''\n",
    "    ambiguous_aa = [\"B\", \"J\", \"O\", \"U\", \"Z\"]\n",
    "    \n",
    "    def is_valid_sequence(seq):\n",
    "        '''Helper method. \n",
    "        return True if ambiguous_aa chars are in the string, \n",
    "        True if string is correctly formatted'''\n",
    "        if seq[0]!=\"M\": # sequence must start with M\n",
    "            return False\n",
    "\n",
    "        for char in ambiguous_aa:\n",
    "            if char in seq:\n",
    "                return False\n",
    "        return True # if the loop completes, no invalid characters were found in inputted sequence\n",
    "\n",
    "    invalid_sequence_counter=0\n",
    "    with open (invalid_seq_path, \"w+\") as output_invalid:\n",
    "        with open(cleaned_path, \"w+\") as output:\n",
    "            # Using the Biopython fasta parse we can read our fasta input\n",
    "            for sequence in sequences:\n",
    "                sequence_string = str(sequence.seq).upper()\n",
    "                #write valid sequences to output\n",
    "                if is_valid_sequence(sequence_string):\n",
    "                    output.write(\">\" + str(sequence.description) + \"\\n\" + str(sequence_string + \"\\n\\n\"))\n",
    "                else:\n",
    "                    invalid_sequence_counter+=1\n",
    "                    output_invalid.write(\">\" + str(sequence.description) + \"\\n\" + str(sequence_string + \"\\n\\n\"))\n",
    "    log([f\"{invalid_sequence_counter} invalid sequences were found\"])"
   ]
  },
  {
   "cell_type": "code",
   "execution_count": 36,
   "id": "9d8f29e1",
   "metadata": {},
   "outputs": [
    {
     "name": "stdout",
     "output_type": "stream",
     "text": [
      "266 invalid sequences were found\n",
      "\n"
     ]
    }
   ],
   "source": [
    "# perform cleaning using function above\n",
    "# After iterating through Biopython FASTAIO generator, it's empty\n",
    "# must restore the sequence record\n",
    "sequences = convert_string_to_seq(sequence_string)\n",
    "clean(sequences)"
   ]
  },
  {
   "cell_type": "code",
   "execution_count": 37,
   "id": "28bab282",
   "metadata": {},
   "outputs": [],
   "source": [
    "def run_shell(command):\n",
    "    '''runs any given set of arguments on command line'''\n",
    "    #print(args)\n",
    "    with open(log_file, 'a') as f:\n",
    "        process = subprocess.run(command, stdout=f, stderr = f, shell = True)"
   ]
  },
  {
   "cell_type": "code",
   "execution_count": 38,
   "id": "02ff7b42",
   "metadata": {},
   "outputs": [],
   "source": [
    "def cluster(thresh = 0.99):\n",
    "    '''performs cd-hit clustering'''\n",
    "    log([\"PERFORMING CD-HIT CLUSTERING\", \"-------------------------------------------------------\"])\n",
    "    terminal_command = f\"{cd_hit_path} -i {cleaned_path} -o {clustered_path} -c {thresh}\"\n",
    "    run_shell(terminal_command)"
   ]
  },
  {
   "cell_type": "code",
   "execution_count": 39,
   "id": "605ac004",
   "metadata": {},
   "outputs": [],
   "source": [
    "def align():\n",
    "    '''performs muscle alignment. May take a long time'''\n",
    "    log([\"MUSCLE ALIGNMENT\", \"-------------------------------------------------------\"])\n",
    "    terminal_command = f\"muscle -align {clustered_path} -output {aln_path}\"\n",
    "    try:\n",
    "        run_shell(terminal_command)\n",
    "    except:\n",
    "        print(\"ERROR: ensure muscle has been downloaded and activated as an executable using chmod\")"
   ]
  },
  {
   "cell_type": "code",
   "execution_count": 40,
   "id": "82d3f193",
   "metadata": {},
   "outputs": [],
   "source": [
    "def get_consensus():\n",
    "    '''CONSENSUS SEQUENCE AND ENTROPY ANALYSIS - MODIFIED PROTEIN-CONSENSUS-SEQUENCE PROGRAM'''\n",
    "    '''\n",
    "    runs protein-consensus-sequence program from https://github.com/msternke/protein-consensus-sequence.git\n",
    "   \n",
    "   NOTE: I have included a modified version of this program in the vaccine_design package,\n",
    "            no need to download any additional software (besides cd-hit and muscle)\n",
    "   \n",
    "    \n",
    "    Outputs\n",
    "    ---------------------------------------\n",
    "    1) calculates consensus sequence with gap removal\n",
    "    2) generate residues frequency\n",
    "    3) Entropy data at each position\n",
    "    4) Entropy plots \n",
    "    '''\n",
    "    terminal_command = f\"{consensus_path}/consensus.py -i {aln_path} -o consensus.fasta -c 1\"\n",
    "    try:\n",
    "        run_shell(terminal_command)\n",
    "    except:\n",
    "        log([\"ensure that you have downloaded protein-consensus-sequence and it has been placedd in working directory\"])\n",
    "    "
   ]
  },
  {
   "cell_type": "code",
   "execution_count": 41,
   "id": "f55bcde6",
   "metadata": {},
   "outputs": [
    {
     "name": "stdout",
     "output_type": "stream",
     "text": [
      "PERFORMING CD-HIT CLUSTERING\n",
      "\n",
      "-------------------------------------------------------\n",
      "\n",
      "766 clusters were created\n",
      "\n"
     ]
    }
   ],
   "source": [
    "# cluster sequences\n",
    "cluster()\n",
    "\n",
    "# count clusters for log file \n",
    "clustered_records = SeqIO.parse(clustered_path, \"fasta\")\n",
    "num_clusters = count_sequences(clustered_records)\n",
    "log([f\"{num_clusters} clusters were created\"])"
   ]
  },
  {
   "cell_type": "code",
   "execution_count": 42,
   "id": "c7943684",
   "metadata": {},
   "outputs": [
    {
     "name": "stdout",
     "output_type": "stream",
     "text": [
      "MUSCLE ALIGNMENT\n",
      "\n",
      "-------------------------------------------------------\n",
      "\n"
     ]
    }
   ],
   "source": [
    "# align sequences\n",
    "# output of muscle is sent to log file\n",
    "# BUG: for some reason, output is not written to file\n",
    "align()"
   ]
  },
  {
   "cell_type": "code",
   "execution_count": null,
   "id": "da077afd",
   "metadata": {},
   "outputs": [],
   "source": [
    "# get the consensus sequence\n",
    "# entropy is calculated \n",
    "get_consensus()"
   ]
  }
 ],
 "metadata": {
  "kernelspec": {
   "display_name": "vaccine",
   "language": "python",
   "name": "vaccine"
  },
  "language_info": {
   "codemirror_mode": {
    "name": "ipython",
    "version": 3
   },
   "file_extension": ".py",
   "mimetype": "text/x-python",
   "name": "python",
   "nbconvert_exporter": "python",
   "pygments_lexer": "ipython3",
   "version": "3.10.0"
  }
 },
 "nbformat": 4,
 "nbformat_minor": 5
}
